{
 "cells": [
  {
   "cell_type": "code",
   "execution_count": 12,
   "metadata": {},
   "outputs": [],
   "source": [
    "import requests\n",
    "import pandas as pd"
   ]
  },
  {
   "cell_type": "code",
   "execution_count": 13,
   "metadata": {},
   "outputs": [],
   "source": [
    "# Define the API keys\n",
    "distance_matrix_api_key = \"api_key\"\n",
    "geocoding_api_key = \"api_key\""
   ]
  },
  {
   "cell_type": "code",
   "execution_count": 14,
   "metadata": {},
   "outputs": [],
   "source": [
    "distance_matrix_base_url = \"https://maps.googleapis.com/maps/api/distancematrix/json\"\n",
    "geocoding_base_url = \"https://maps.googleapis.com/maps/api/geocode/json\""
   ]
  },
  {
   "cell_type": "code",
   "execution_count": 15,
   "metadata": {},
   "outputs": [],
   "source": [
    "# Read the destinations from the file\n",
    "with open(\"dests.txt\", \"r\") as f:\n",
    "    destinations = f.read().splitlines()\n",
    "\n",
    "\n",
    "results = []"
   ]
  },
  {
   "cell_type": "code",
   "execution_count": 16,
   "metadata": {},
   "outputs": [],
   "source": [
    "\n",
    "for dest in destinations:\n",
    "    \n",
    "    distance_matrix_params = {\n",
    "        \"origins\": \"Tel Aviv\",\n",
    "        \"destinations\": dest,\n",
    "        \"key\": distance_matrix_api_key\n",
    "    }\n",
    "    distance_matrix_response = requests.get(distance_matrix_base_url, params=distance_matrix_params)\n",
    "    distance = distance_matrix_response.json()[\"rows\"][0][\"elements\"][0][\"distance\"][\"value\"] / 1000  # convert to kilometers\n",
    "    duration = distance_matrix_response.json()[\"rows\"][0][\"elements\"][0][\"duration\"][\"text\"]\n",
    "    \n",
    "    \n",
    "    geocoding_params = {\n",
    "        \"address\": dest,\n",
    "        \"key\": geocoding_api_key\n",
    "    }\n",
    "    geocoding_response = requests.get(geocoding_base_url, params=geocoding_params)\n",
    "    location = geocoding_response.json()[\"results\"][0][\"geometry\"][\"location\"]\n",
    "    latitude = location[\"lat\"]\n",
    "    longitude = location[\"lng\"]\n",
    "    \n",
    "    # Add the results to the list\n",
    "    results.append({\n",
    "        \"Target\": dest,\n",
    "        \"Distance_km\": distance,\n",
    "        \"Duration (hour+minutes)\": duration,\n",
    "        \"Longitude\": longitude,\n",
    "        \"Latitude\": latitude\n",
    "    })"
   ]
  },
  {
   "cell_type": "code",
   "execution_count": 17,
   "metadata": {},
   "outputs": [],
   "source": [
    "df = pd.DataFrame(results)"
   ]
  },
  {
   "cell_type": "code",
   "execution_count": 18,
   "metadata": {},
   "outputs": [
    {
     "data": {
      "text/html": [
       "<div>\n",
       "<style scoped>\n",
       "    .dataframe tbody tr th:only-of-type {\n",
       "        vertical-align: middle;\n",
       "    }\n",
       "\n",
       "    .dataframe tbody tr th {\n",
       "        vertical-align: top;\n",
       "    }\n",
       "\n",
       "    .dataframe thead th {\n",
       "        text-align: right;\n",
       "    }\n",
       "</style>\n",
       "<table border=\"1\" class=\"dataframe\">\n",
       "  <thead>\n",
       "    <tr style=\"text-align: right;\">\n",
       "      <th></th>\n",
       "      <th>Target</th>\n",
       "      <th>Distance_km</th>\n",
       "      <th>Duration (hour+minutes)</th>\n",
       "      <th>Longitude</th>\n",
       "      <th>Latitude</th>\n",
       "    </tr>\n",
       "  </thead>\n",
       "  <tbody>\n",
       "    <tr>\n",
       "      <th>0</th>\n",
       "      <td>Istanbul</td>\n",
       "      <td>1815.227</td>\n",
       "      <td>21 hours 3 mins</td>\n",
       "      <td>28.978359</td>\n",
       "      <td>41.008238</td>\n",
       "    </tr>\n",
       "    <tr>\n",
       "      <th>1</th>\n",
       "      <td>Amsterdam</td>\n",
       "      <td>4527.132</td>\n",
       "      <td>2 days 0 hours</td>\n",
       "      <td>4.904139</td>\n",
       "      <td>52.367573</td>\n",
       "    </tr>\n",
       "    <tr>\n",
       "      <th>2</th>\n",
       "      <td>Valletta</td>\n",
       "      <td>3792.883</td>\n",
       "      <td>2 days 3 hours</td>\n",
       "      <td>14.514100</td>\n",
       "      <td>35.899237</td>\n",
       "    </tr>\n",
       "    <tr>\n",
       "      <th>3</th>\n",
       "      <td>Basel</td>\n",
       "      <td>4092.805</td>\n",
       "      <td>1 day 20 hours</td>\n",
       "      <td>7.588576</td>\n",
       "      <td>47.559599</td>\n",
       "    </tr>\n",
       "    <tr>\n",
       "      <th>4</th>\n",
       "      <td>Doha</td>\n",
       "      <td>2164.477</td>\n",
       "      <td>22 hours 39 mins</td>\n",
       "      <td>51.531040</td>\n",
       "      <td>25.285447</td>\n",
       "    </tr>\n",
       "  </tbody>\n",
       "</table>\n",
       "</div>"
      ],
      "text/plain": [
       "      Target  Distance_km Duration (hour+minutes)  Longitude   Latitude\n",
       "0   Istanbul     1815.227         21 hours 3 mins  28.978359  41.008238\n",
       "1  Amsterdam     4527.132          2 days 0 hours   4.904139  52.367573\n",
       "2   Valletta     3792.883          2 days 3 hours  14.514100  35.899237\n",
       "3      Basel     4092.805          1 day 20 hours   7.588576  47.559599\n",
       "4       Doha     2164.477        22 hours 39 mins  51.531040  25.285447"
      ]
     },
     "execution_count": 18,
     "metadata": {},
     "output_type": "execute_result"
    }
   ],
   "source": [
    "#print the data frame\n",
    "df"
   ]
  },
  {
   "cell_type": "code",
   "execution_count": 19,
   "metadata": {},
   "outputs": [
    {
     "name": "stdout",
     "output_type": "stream",
     "text": [
      "1    Amsterdam\n",
      "3        Basel\n",
      "2     Valletta\n",
      "Name: Target, dtype: object\n"
     ]
    }
   ],
   "source": [
    "sorted_df = df.sort_values(by=\"Distance_km\", ascending=False)\n",
    "\n",
    "# Get the top 3 cities furthest from Tel Aviv\n",
    "top_3_furthest = sorted_df.head(3)\n",
    "\n",
    "# Print the top 3 cities furthest from Tel Aviv\n",
    "print(top_3_furthest[\"Target\"])\n"
   ]
  },
  {
   "cell_type": "code",
   "execution_count": null,
   "metadata": {},
   "outputs": [],
   "source": []
  }
 ],
 "metadata": {
  "kernelspec": {
   "display_name": "Python 3 (ipykernel)",
   "language": "python",
   "name": "python3"
  },
  "language_info": {
   "codemirror_mode": {
    "name": "ipython",
    "version": 3
   },
   "file_extension": ".py",
   "mimetype": "text/x-python",
   "name": "python",
   "nbconvert_exporter": "python",
   "pygments_lexer": "ipython3",
   "version": "3.8.3"
  }
 },
 "nbformat": 4,
 "nbformat_minor": 4
}
